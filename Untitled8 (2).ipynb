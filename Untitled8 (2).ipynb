{
 "cells": [
  {
   "cell_type": "code",
   "execution_count": 20,
   "id": "79168360-7d3d-43c5-9771-1f3861667365",
   "metadata": {},
   "outputs": [],
   "source": [
    "import gEconpy as ge\n",
    "import gEconpy.plotting as gp\n",
    "import matplotlib.pyplot as plt\n",
    "import numpy as np\n",
    "\n",
    "import pandas as pd\n",
    "import statsmodels.api as sm\n",
    "\n",
    "config = {\n",
    "    'figure.figsize':(14,4),\n",
    "    'figure.dpi':144,\n",
    "    'figure.facecolor':'white',\n",
    "    'axes.grid':True,\n",
    "    'grid.linestyle':'--',\n",
    "    'grid.linewidth':0.5,\n",
    "    'axes.spines.top':False,\n",
    "    'axes.spines.bottom':False,\n",
    "    'axes.spines.left':False,\n",
    "    'axes.spines.right':False\n",
    "}\n",
    "\n",
    "plt.rcParams.update(config)"
   ]
  },
  {
   "cell_type": "code",
   "execution_count": 35,
   "id": "6519a8bb-8706-4977-b35f-12e50c401525",
   "metadata": {},
   "outputs": [],
   "source": [
    "import pandas_datareader\n",
    "from pandas_datareader import oecd\n",
    "df = OECD_indicators = ['ANHRS', # hours worked annual per worker \n",
    "                       ]\n",
    "df = oecd.OECDReader(symbols = 'ANHRS', start = '1900-01-01', end =None).read()\n",
    "df ['Denmark']\n",
    "\n",
    "denmark_quarterl = df.resample('Q').mean()\n"
   ]
  },
  {
   "cell_type": "code",
   "execution_count": null,
   "id": "9276875d-6902-4e7a-8468-cf0c58e0b8ee",
   "metadata": {},
   "outputs": [],
   "source": []
  },
  {
   "cell_type": "code",
   "execution_count": null,
   "id": "2a6e4801-098d-445f-bb11-fff0aa158ade",
   "metadata": {},
   "outputs": [],
   "source": []
  },
  {
   "cell_type": "code",
   "execution_count": null,
   "id": "3ccc3590-169f-419e-b8b2-11d3411147fa",
   "metadata": {},
   "outputs": [],
   "source": []
  },
  {
   "cell_type": "code",
   "execution_count": null,
   "id": "c3924464-1f0d-498e-95fd-ebfcd480cf96",
   "metadata": {},
   "outputs": [],
   "source": []
  },
  {
   "cell_type": "code",
   "execution_count": null,
   "id": "d58734bd-8199-4c0c-8b9d-9aab940e2f18",
   "metadata": {},
   "outputs": [],
   "source": []
  },
  {
   "cell_type": "code",
   "execution_count": null,
   "id": "fcb90556-6865-49dc-887f-1e512f397722",
   "metadata": {},
   "outputs": [],
   "source": []
  },
  {
   "cell_type": "code",
   "execution_count": null,
   "id": "2f78c242-2492-4fa7-89fb-d206af4fd43c",
   "metadata": {},
   "outputs": [],
   "source": []
  },
  {
   "cell_type": "code",
   "execution_count": null,
   "id": "3fb57b57-675d-4628-b589-7b44d8fe30b4",
   "metadata": {},
   "outputs": [],
   "source": []
  },
  {
   "cell_type": "code",
   "execution_count": null,
   "id": "9a97fb61-d421-4588-a7c2-ec79540fc7de",
   "metadata": {},
   "outputs": [],
   "source": []
  },
  {
   "cell_type": "code",
   "execution_count": null,
   "id": "901e105c-d3a6-4ff6-905b-31bbefb0ab0d",
   "metadata": {},
   "outputs": [],
   "source": []
  },
  {
   "cell_type": "code",
   "execution_count": null,
   "id": "723db8fb-8e7d-4b73-b298-e199a412e130",
   "metadata": {},
   "outputs": [],
   "source": []
  },
  {
   "cell_type": "code",
   "execution_count": null,
   "id": "31e6d393-5e12-476a-96a3-7fa5d0f28776",
   "metadata": {},
   "outputs": [],
   "source": []
  },
  {
   "cell_type": "code",
   "execution_count": null,
   "id": "0b72dae7-4d1a-4cf3-a236-6db5b6006c94",
   "metadata": {},
   "outputs": [],
   "source": []
  },
  {
   "cell_type": "code",
   "execution_count": null,
   "id": "1718c4de-7ccd-4040-9aa5-684f1b3a99e2",
   "metadata": {},
   "outputs": [],
   "source": []
  },
  {
   "cell_type": "code",
   "execution_count": null,
   "id": "9e9db37e-eaee-4316-8051-02eb2f7c095f",
   "metadata": {},
   "outputs": [],
   "source": []
  },
  {
   "cell_type": "code",
   "execution_count": null,
   "id": "58f14ccf-2ddc-4652-9026-21af09c1ffa6",
   "metadata": {},
   "outputs": [],
   "source": []
  },
  {
   "cell_type": "code",
   "execution_count": null,
   "id": "6c5b5823-b84e-41f6-bff7-40960bfff182",
   "metadata": {},
   "outputs": [],
   "source": []
  },
  {
   "cell_type": "code",
   "execution_count": null,
   "id": "439860f0-4c90-42b6-ba53-39a716502c81",
   "metadata": {},
   "outputs": [],
   "source": []
  },
  {
   "cell_type": "code",
   "execution_count": null,
   "id": "f58e509b-9d82-4479-8b68-60d2315d9a88",
   "metadata": {},
   "outputs": [],
   "source": []
  },
  {
   "cell_type": "code",
   "execution_count": null,
   "id": "c758bdfa-3939-4284-b2ac-a8754d000d78",
   "metadata": {},
   "outputs": [],
   "source": []
  },
  {
   "cell_type": "code",
   "execution_count": null,
   "id": "58167ace-aed8-4985-817d-fb798d5c3ad9",
   "metadata": {},
   "outputs": [],
   "source": []
  },
  {
   "cell_type": "code",
   "execution_count": null,
   "id": "0a3787df-1b87-42ed-9321-ad8ba2426d1c",
   "metadata": {},
   "outputs": [],
   "source": []
  },
  {
   "cell_type": "code",
   "execution_count": null,
   "id": "81b5364f-759f-49f0-ab5e-5a886b23488a",
   "metadata": {},
   "outputs": [],
   "source": []
  },
  {
   "cell_type": "code",
   "execution_count": null,
   "id": "6ba6c435-ea2a-4927-9fb7-5ff37c30d9ca",
   "metadata": {},
   "outputs": [],
   "source": []
  },
  {
   "cell_type": "code",
   "execution_count": null,
   "id": "e76afbfd-9905-4a8e-94f3-af0ea2b471e1",
   "metadata": {},
   "outputs": [],
   "source": []
  },
  {
   "cell_type": "code",
   "execution_count": null,
   "id": "5983d0eb-7fe1-40c7-a40c-7b546214cb55",
   "metadata": {},
   "outputs": [],
   "source": []
  },
  {
   "cell_type": "code",
   "execution_count": null,
   "id": "b3074233-c4a2-450a-8084-43cd79c3dfc2",
   "metadata": {},
   "outputs": [],
   "source": []
  },
  {
   "cell_type": "code",
   "execution_count": null,
   "id": "2fa5065c-39a0-40d2-8bf1-992c6634567b",
   "metadata": {},
   "outputs": [],
   "source": []
  },
  {
   "cell_type": "code",
   "execution_count": null,
   "id": "40437fb8-0dc0-472a-8d3f-8f9e702b1c0c",
   "metadata": {},
   "outputs": [],
   "source": []
  },
  {
   "cell_type": "code",
   "execution_count": null,
   "id": "6442ea71-990c-4044-b829-b2ba2fd1cc73",
   "metadata": {},
   "outputs": [],
   "source": []
  },
  {
   "cell_type": "code",
   "execution_count": null,
   "id": "46446719-921c-4fec-827c-d65c02bf2743",
   "metadata": {},
   "outputs": [],
   "source": []
  },
  {
   "cell_type": "code",
   "execution_count": null,
   "id": "b3ac7a9f-0bfc-47eb-bc36-b2140a5e9b3e",
   "metadata": {},
   "outputs": [],
   "source": []
  },
  {
   "cell_type": "code",
   "execution_count": null,
   "id": "b2cc4508-0efc-4b06-b00a-88cfea291b21",
   "metadata": {},
   "outputs": [],
   "source": []
  },
  {
   "cell_type": "code",
   "execution_count": null,
   "id": "3237fcc0-f896-44a3-a3f0-18c06c6d565b",
   "metadata": {},
   "outputs": [],
   "source": []
  },
  {
   "cell_type": "code",
   "execution_count": null,
   "id": "0e86167f-8791-4f47-a023-aacd7a59745b",
   "metadata": {},
   "outputs": [],
   "source": []
  },
  {
   "cell_type": "code",
   "execution_count": null,
   "id": "86ad8cfc-79a7-4efc-b4a9-6b20a1f83afa",
   "metadata": {},
   "outputs": [],
   "source": []
  },
  {
   "cell_type": "code",
   "execution_count": null,
   "id": "6edef26e-1f69-465e-bad0-6949af8559cf",
   "metadata": {},
   "outputs": [],
   "source": []
  }
 ],
 "metadata": {
  "kernelspec": {
   "display_name": "Python 3 (ipykernel)",
   "language": "python",
   "name": "python3"
  },
  "language_info": {
   "codemirror_mode": {
    "name": "ipython",
    "version": 3
   },
   "file_extension": ".py",
   "mimetype": "text/x-python",
   "name": "python",
   "nbconvert_exporter": "python",
   "pygments_lexer": "ipython3",
   "version": "3.11.5"
  }
 },
 "nbformat": 4,
 "nbformat_minor": 5
}
